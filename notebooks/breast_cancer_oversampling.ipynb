{
 "cells": [
  {
   "cell_type": "code",
   "execution_count": null,
   "metadata": {},
   "outputs": [],
   "source": [
    "# simple function to print version string for a library\n",
    "def v(lib):\n",
    "    try:\n",
    "        version = lib.__version__\n",
    "    except:\n",
    "        version = \"---\"\n",
    "    name = lib.__name__\n",
    "    print(\"  {:20} ({})\".format(name, version))\n",
    "    \n",
    "#import all the libraries we will need... \n",
    "print(\"importing libraries...\")\n",
    "import pandas as pd\n",
    "v(pd)\n",
    "import os\n",
    "v(os)\n",
    "import numpy as np\n",
    "v(np)\n",
    "import sweetviz as sv\n",
    "v(sv)\n",
    "import imblearn\n",
    "v(imblearn)\n",
    "print('done')\n"
   ]
  },
  {
   "cell_type": "code",
   "execution_count": null,
   "metadata": {},
   "outputs": [],
   "source": [
    "def setup_environment_variables():\n",
    "    # set csw and home_dir variables\n",
    "    cwd = os.getcwd()\n",
    "    print('cwd: {}'.format(cwd))\n",
    "    home_dir = os.path.expanduser(\"~\")\n",
    "    print('home_dir: {}'.format(home_dir))\n",
    "\n",
    "    repo_name = 'breast-cancer'\n",
    "    repo_dir = os.path.join(home_dir, repo_name)\n",
    "    if os.path.isdir(repo_dir):\n",
    "        print('repo_dir: {}'.format(repo_dir))\n",
    "    else: \n",
    "        print('ERROR: repository is not under home_dir (\"{}\"\") or is not named \"{}\"'.format(home_dir, repo_name))\n",
    "        return\n",
    "        \n",
    "    data_dir = os.path.join(repo_dir, 'data')\n",
    "    if os.path.isdir(data_dir):\n",
    "        print('data_dir: {}'.format(data_dir))\n",
    "    else: \n",
    "        print('oops! directory named \"data\" not found under \"{}\"'.format(repo_dir))\n",
    "        data_dir = os.path.join(repo_dir, 'data')\n",
    "    \n",
    "    eda_dir = os.path.join(repo_dir, 'EDA')\n",
    "    if os.path.isdir(eda_dir):\n",
    "        print('eda_dir: {}'.format(eda_dir))\n",
    "    else: \n",
    "        print('directory named \"EDA\" not found under \"{}\"'.format(repo_dir))\n",
    "        print('creating \"EDA\" dir... \"{}\"'.format(eda_dir))\n",
    "        os.makedirs(eda_dir)\n",
    "        \n",
    "    part_dir = os.path.join(repo_dir, 'part-files')\n",
    "    if os.path.isdir(part_dir):\n",
    "        print('part_dir: {}'.format(part_dir))\n",
    "    else: \n",
    "        print('directory named \"part-files\" not found under \"{}\"'.format(repo_dir))\n",
    "        print('creating \"part-files\" dir... \"{}\"'.format(part_dir))\n",
    "        os.makedirs(part_dir)\n",
    "        \n",
    "    return cwd, home_dir, repo_dir, data_dir, eda_dir, part_dir\n"
   ]
  },
  {
   "cell_type": "code",
   "execution_count": null,
   "metadata": {},
   "outputs": [],
   "source": [
    "def now():\n",
    "    from datetime import datetime\n",
    "    return datetime.now().strftime(\"%d%m%Y-%H:%M:%S\")\n",
    "    \n",
    "def name_df(df, name, desc=\"\"):\n",
    "    from datetime import date\n",
    "    if desc ==\"\":\n",
    "        df.name = \"\".join((name,\"-\",now()))\n",
    "    else:\n",
    "        df.name = \"\".join((name,\"-\",now(),\"-(\", desc, \")\"))\n",
    "    return name"
   ]
  },
  {
   "cell_type": "code",
   "execution_count": null,
   "metadata": {},
   "outputs": [],
   "source": [
    "# print(now())\n",
    "zebra_df = pd.DataFrame()\n",
    "name_df(zebra_df, 'zebra_df')\n",
    "print(zebra_df.name)"
   ]
  },
  {
   "cell_type": "code",
   "execution_count": null,
   "metadata": {},
   "outputs": [],
   "source": [
    "def create_initial_cancer_dataset():\n",
    "    # open the  cancer data file\n",
    "    cancer_df = pd.read_csv(os.path.join(home_dir, data_dir, \"cancer_data.csv\"))\n",
    "    \n",
    "    # convert 'diagnosis' column to a categorical\n",
    "    cancer_df['diagnosis'] = pd.Categorical(cancer_df['diagnosis'], cancer_categories, ordered=True).codes\n",
    "    cancer_df = cancer_df.drop(columns=['id'])\n",
    "    \n",
    "    name_df(cancer_df, 'cancer_df', 'Original Cancer Data')\n",
    "    \n",
    "    return cancer_df"
   ]
  },
  {
   "cell_type": "code",
   "execution_count": null,
   "metadata": {},
   "outputs": [],
   "source": [
    "# initalize global environment variables ... \n",
    "cwd, home_dir, repo_dir, data_dir, eda_dir, part_dir = setup_environment_variables()\n",
    "\n",
    "# setup 'cancer_categories' to be used to convert 'B' and 'M' into categorical (numeric) values\n",
    "cancer_categories = ['B', 'M']\n",
    "# remeber the indices for B and M (for use in other functions, etc)\n",
    "B = cancer_categories.index('B')\n",
    "M = cancer_categories.index('M')\n",
    "\n",
    "#initialize cancer_df from the raw data file\n",
    "cancer_df = create_initial_cancer_dataset()\n",
    "print('cancer_df.name: \"{}\"'.format(cancer_df.name))\n",
    "\n",
    "# print(M, B, cancer_categories)"
   ]
  },
  {
   "cell_type": "code",
   "execution_count": null,
   "metadata": {},
   "outputs": [],
   "source": [
    "cancer_df.dtypes"
   ]
  },
  {
   "cell_type": "code",
   "execution_count": null,
   "metadata": {},
   "outputs": [],
   "source": [
    "cancer_df.describe()"
   ]
  },
  {
   "cell_type": "code",
   "execution_count": null,
   "metadata": {},
   "outputs": [],
   "source": [
    "cancer_df.head()"
   ]
  },
  {
   "cell_type": "code",
   "execution_count": null,
   "metadata": {},
   "outputs": [],
   "source": [
    "def create_imbalanced_dataset(df, over_balance_on, N=100, verbose=False):\n",
    "    \n",
    "    # replicate the starting datafram (df) N times into df2\n",
    "    if verbose:\n",
    "        print('replicating base dataframe {} times'.format(N))\n",
    "    df2 = pd.concat([df for ii in range(N)])\n",
    "\n",
    "    if verbose:\n",
    "        print('original dataframe: {} rows, new/temp dataframe: {} rows\\n'.format(len(df), len(df2)))\n",
    "          \n",
    "    # assuming (for now) that we are blancing relative to a 'diagnosis' (that is binary classification: 0 or 1)\n",
    "    # validate the the 'over_balance_on' parm .. \n",
    "    if over_balance_on == 0:\n",
    "        minority = 1\n",
    "    elif over_balance_on == 1: \n",
    "        minority = 0\n",
    "    else:\n",
    "        print(\"ERROR: over_balance_on has to be 0 or 1 (binary classificaion only)!\")\n",
    "        return\n",
    "    # print(\"valid 'over_balance_on' parameter specifed... \")\n",
    "          \n",
    "    majority = over_balance_on\n",
    "    # minority_st = cancer_categories[minority]\n",
    "    over_balance_on_st = cancer_categories[over_balance_on]\n",
    "\n",
    "    print('creating a new dataframe imbalanced on ''diagnosis==\"{}\"'' ({})'.format(over_balance_on_st, over_balance_on))\n",
    "          \n",
    "    # create a new dataframe 'majority_df' by selecting rowes where 'diagnosis==majority' from the \n",
    "    # temporary dataframe (which was replicated Nx from the base_df)\n",
    "    majority_df  = df2.query('diagnosis=={}'.format(majority)) \n",
    "    majority_rows = len(majority_df)   \n",
    "    # print('... {} rows - contianing ''diagnosis==\"{}\"'' only'.format(majority_rows, over_balance_on_st))\n",
    "    # print('... added to {} total rose - containg a mix of ''diagnosis''\\n'.format(len(df)))\n",
    "    \n",
    "    imbalanced_df = df.append(majority_df)\n",
    "    return imbalanced_df"
   ]
  },
  {
   "cell_type": "code",
   "execution_count": null,
   "metadata": {},
   "outputs": [],
   "source": [
    "def print_balance_stats(a):\n",
    "    b_rows = len(a.query('diagnosis=={}'.format(B)))\n",
    "    m_rows = len(a.query('diagnosis=={}'.format(M)))\n",
    "    t_rows = len(a)\n",
    "    if m_rows > b_rows:\n",
    "        print(\"dataframe is over balanced toward '{}' ({:.2F}%)\".format(cancer_categories[M], (m_rows/t_rows)*100))\n",
    "    elif b_rows > m_rows:\n",
    "        print(\"dataframe is over balanced toward '{}' ({:.2F}%)\".format(cancer_categories[M], (b_rows/t_rows)*100))\n",
    "    else:\n",
    "        print(\"the dataframe is balanced!\")\n",
    "    \n",
    "    print(\"B: {}, M: {}, total: {}  ({})\".format(b_rows, m_rows, t_rows, (m_rows+b_rows)==t_rows))\n",
    "    return b_rows, m_rows, t_rows"
   ]
  },
  {
   "cell_type": "code",
   "execution_count": null,
   "metadata": {},
   "outputs": [],
   "source": [
    "def balance_dataset(df, verbose=False):\n",
    "    \n",
    "    # pass 'balance_dataset' a dataframe that should ideally be imbalanced and 'balance_dataset'\n",
    "    # will apply Synthetic Minority Over-sampling Technique (aka: SMOTE) to reblance the data \n",
    "    # \n",
    "    # the reblancing technique involves breaking the dataframe into\n",
    "    #     y    a 'target_vector' which is essentially the 'diagnosis' colum from 'df'\n",
    "    #     X    the features matrix which is essentally all the remaining columns in the matrix\n",
    "\n",
    "    if verbose:\n",
    "        print(\"initial balance statistics (before reblancing)\")\n",
    "        print_balance_state(df)\n",
    "        \n",
    "    # separate the feature matrix (X) from the 'target vector' (y)\n",
    "    # WARNING: code below assumes that the 'diagnosis', it the first column () in the datfram\n",
    "    # should re-write it to work regardless of column order... \n",
    "    y = df.iloc[:,0].values\n",
    "    X = df.iloc[:,1:].values\n",
    "    \n",
    "    # apply Synthetic Minority Over-sampling Technique (aka: SMOTE) to reblance the data \n",
    "    # (creating a 50/50 ratio of malignant and benign cases)\n",
    "    \n",
    "    # note: SMOTE will return \"resampled\" versions of X and y that have additional entries created\n",
    "    # to achieve balance\n",
    "    oversample = imblearn.over_sampling.SMOTE()\n",
    "    X_resamp, y_resamp = oversample.fit_resample(X, y)\n",
    "     \n",
    "    # reassemble the dataframe into 'rebalanced_df' (which will be returned from the function)\n",
    "    \n",
    "    # build a list of column names \n",
    "    column_names = list(cancer_df.columns)\n",
    "    if verbose:\n",
    "        print(column_names)\n",
    "\n",
    "    # reassemble the dataframe from X_reasmp and y_resamp\n",
    "    rebalanced_df = pd.DataFrame(np.insert(X_resamp, 0, y_resamp, axis=1), columns=column_names)\n",
    "\n",
    "    if verbose:\n",
    "        print(\"There sould be an equal number of 'benign' and 'malignant' cases after rebalancing... \")\n",
    "        print(\"benign:\", len(rebalanced_df.query(\"diagnosis=={}\".format(B))))\n",
    "        print(\"malignant:\", len(rebalanced_df.query(\"diagnosis=={}\".format(M))))\n",
    "    \n",
    "    return rebalanced_df"
   ]
  },
  {
   "cell_type": "code",
   "execution_count": null,
   "metadata": {},
   "outputs": [],
   "source": [
    "def gen_new_data(N, P):\n",
    "\n",
    "    for i in range(P):\n",
    "        malignant_imbalanced = create_imbalanced_dataset(cancer_df, M, N)\n",
    "        print('malignant_imbalanced: should have M >> B')\n",
    "        _, _, _ = print_balance_stats(malignant_imbalanced)\n",
    "\n",
    "        print('\\nrebalanced_df: should have M == B')\n",
    "        rebalanced_df = balance_dataset(malignant_imbalanced)\n",
    "        _, _, _ = print_balance_stats(rebalanced_df)\n",
    "        new_df = rebalanced_df.query('diagnosis=={}'.format(B)) \n",
    "\n",
    "        benign_imbalanced = create_imbalanced_dataset(cancer_df, B, N)\n",
    "        print('\\nmalignant_imbalanced: should have B >> M')\n",
    "        _, _, _ = print_balance_stats(benign_imbalanced)\n",
    "\n",
    "        if verbose:\n",
    "            print('\\nrebalanced_df: should have B == M')\n",
    "        rebalanced_df = balance_dataset(malignant_imbalanced)\n",
    "        _, _, _ = print_balance_stats(rebalanced_df)\n",
    "        new_df = new_df.append(rebalanced_df.query('diagnosis=={}'.format(M)))\n",
    "    \n",
    "        pf_name = os.path.join(part_dir, 'foo-{}.csv'.format(str(i).zfill(5)))\n",
    "        print('\\n*** new artfile: {}\\n'.format(pf_name))\n",
    "        new_df.to_csv(pf_name, index=False)\n",
    "    \n",
    "    "
   ]
  },
  {
   "cell_type": "code",
   "execution_count": null,
   "metadata": {},
   "outputs": [],
   "source": [
    "i = 1\n",
    "n = 'foo-{}.csv'.format(str(i).zfill(5))\n",
    "print(i, n)\n",
    "new_df.to_csv(n, index=False)"
   ]
  },
  {
   "cell_type": "code",
   "execution_count": null,
   "metadata": {},
   "outputs": [],
   "source": [
    "def sweetviz(df):\n",
    "    # create an EDA report for the original dataframe \n",
    "    data_report = sv.analyze(df)\n",
    "    try:\n",
    "        df_name = df.name\n",
    "    except:\n",
    "        df_name = \"unamed{}()\".format(now())\n",
    "    \n",
    "    print(df_name)\n",
    "    \n",
    "    data_report.show_html(os.path.join(eda_dir, df_name+'.html'))\n",
    "    # data_report.show_html(df_name)\n",
    "    \n",
    "    # if os.path.isfile(df_name):\n",
    "    #    os.rename(df_name, os.path.join(eda_dir, df_name+'-'+now()))\n",
    "        "
   ]
  },
  {
   "cell_type": "code",
   "execution_count": null,
   "metadata": {},
   "outputs": [],
   "source": [
    "print(\"{:,}\".format(int('1782992542')))\n",
    "print(\"{:,}\".format(int('178303155')))"
   ]
  },
  {
   "cell_type": "code",
   "execution_count": null,
   "metadata": {},
   "outputs": [],
   "source": [
    "# MISC testing... "
   ]
  },
  {
   "cell_type": "code",
   "execution_count": null,
   "metadata": {},
   "outputs": [],
   "source": [
    "print('before')\n",
    "_, _, _ = print_balance_stats(cancer_df)\n",
    "rebalanced_cancer_df = balance_dataset(cancer_df)\n",
    "print('\\nafter')\n",
    "_, _, _ = print_balance_stats(rebalanced_cancer_df)"
   ]
  },
  {
   "cell_type": "code",
   "execution_count": null,
   "metadata": {},
   "outputs": [],
   "source": []
  },
  {
   "cell_type": "code",
   "execution_count": null,
   "metadata": {},
   "outputs": [],
   "source": [
    "# EDA... "
   ]
  },
  {
   "cell_type": "code",
   "execution_count": null,
   "metadata": {},
   "outputs": [],
   "source": [
    "print_balance_stats(cancer_df)"
   ]
  },
  {
   "cell_type": "code",
   "execution_count": null,
   "metadata": {},
   "outputs": [],
   "source": [
    "# print(now())\n",
    "print(cancer_df.name)\n",
    "sweetviz(cancer_df)"
   ]
  },
  {
   "cell_type": "code",
   "execution_count": null,
   "metadata": {},
   "outputs": [],
   "source": []
  },
  {
   "cell_type": "code",
   "execution_count": null,
   "metadata": {},
   "outputs": [],
   "source": [
    "# create an EDA report for the original dataframe \n",
    "data_report = sv.analyze(cancer_df)\n",
    "data_report.show_html('cancer_df.html')"
   ]
  },
  {
   "cell_type": "code",
   "execution_count": null,
   "metadata": {},
   "outputs": [],
   "source": [
    "# create an EDA report for the severely imbalanced dataframe (swith N*benign sample appended to the original df)\n",
    "data_report = sv.analyze(cancer_imbalance_benign_df)\n",
    "data_report.show_html('cancer_imbalance_benign_df.html')\n"
   ]
  },
  {
   "cell_type": "code",
   "execution_count": null,
   "metadata": {},
   "outputs": [],
   "source": [
    "data_report = sv.analyze(balanced_pd)\n",
    "data_report.show_html('balanced_pd.html')"
   ]
  },
  {
   "cell_type": "code",
   "execution_count": null,
   "metadata": {},
   "outputs": [],
   "source": [
    "malignant_only_df = balanced_pd.query('diagnosis==1')"
   ]
  },
  {
   "cell_type": "code",
   "execution_count": null,
   "metadata": {},
   "outputs": [],
   "source": []
  }
 ],
 "metadata": {
  "kernelspec": {
   "display_name": "Python 3",
   "language": "python",
   "name": "python3"
  },
  "language_info": {
   "codemirror_mode": {
    "name": "ipython",
    "version": 3
   },
   "file_extension": ".py",
   "mimetype": "text/x-python",
   "name": "python",
   "nbconvert_exporter": "python",
   "pygments_lexer": "ipython3",
   "version": "3.7.4"
  }
 },
 "nbformat": 4,
 "nbformat_minor": 2
}
